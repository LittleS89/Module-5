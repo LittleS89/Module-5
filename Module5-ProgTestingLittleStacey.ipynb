{
 "cells": [
  {
   "cell_type": "code",
   "execution_count": null,
   "id": "0a04c85f-e9cc-4f4a-90e7-3c893b476e37",
   "metadata": {},
   "outputs": [],
   "source": [
    "# For example, here’s how you check that the sum() of the numbers (1, 2, 3) equals 6:\n",
    "\n",
    "assert sum([1, 2, 3]) == 6, \"Should be 6\""
   ]
  },
  {
   "cell_type": "code",
   "execution_count": null,
   "id": "652e0af4-03c5-49c4-a079-f01a582128c0",
   "metadata": {},
   "outputs": [],
   "source": [
    "# Try an assertion statement again with the wrong values to see an AssertionError:\n",
    "\n",
    "assert sum([1, 1, 1]) == 6, \"Should be 6\""
   ]
  },
  {
   "cell_type": "code",
   "execution_count": null,
   "id": "2b57afb3-af16-4c72-9ca0-4d12205d70fd",
   "metadata": {},
   "outputs": [],
   "source": [
    "# Instead of testing on the REPL,\n",
    "# you’ll want to put this into a new Python file called test_sum.py and execute it again:\n",
    "\n",
    "def test_sum():\n",
    "    assert sum([1, 2, 3}] == 6, \"Should be 6\"\n",
    "\n",
    "if __name__ == \"__main__\":\n",
    "    test_sum()\n",
    "    print(\"Everything passed\")"
   ]
  },
  {
   "cell_type": "code",
   "execution_count": null,
   "id": "e29f7401-db4d-4ae4-aaa8-afc849149c55",
   "metadata": {},
   "outputs": [],
   "source": [
    "# command line (entry point) which would be run in shell\n",
    "\n",
    "python test_sum.py"
   ]
  },
  {
   "cell_type": "code",
   "execution_count": null,
   "id": "cce030aa-bb53-4402-b887-3fb7a1154cf0",
   "metadata": {},
   "outputs": [],
   "source": [
    "# Now test with a tuple as well. Create a new file called test_sum_2.py with the following code:\n",
    "\n",
    "def test_sum():\n",
    "    assert sum([1, 2, 3]) == 6, \"Should be 6\"\n",
    "\n",
    "def test_sum_tuple():\n",
    "    assert sum((1, 2, 2)) == 6, \"Should be 6\"\n",
    "\n",
    "if __name__ == \"__main__\":\n",
    "    test_sum()\n",
    "    test_sum_tuple()\n",
    "    print(\"Everything passed\")"
   ]
  },
  {
   "cell_type": "code",
   "execution_count": null,
   "id": "822aaf7c-138c-4267-8e97-a33a83cee967",
   "metadata": {},
   "outputs": [],
   "source": [
    "# command line (entry point) to run this tuple test in shell\n",
    "\n",
    "python test_sum_2.py"
   ]
  },
  {
   "cell_type": "code",
   "execution_count": null,
   "id": "6489b1a1-2e23-41e2-8d41-bb2066e3451d",
   "metadata": {},
   "outputs": [],
   "source": []
  }
 ],
 "metadata": {
  "kernelspec": {
   "display_name": "Python 3 (ipykernel)",
   "language": "python",
   "name": "python3"
  },
  "language_info": {
   "codemirror_mode": {
    "name": "ipython",
    "version": 3
   },
   "file_extension": ".py",
   "mimetype": "text/x-python",
   "name": "python",
   "nbconvert_exporter": "python",
   "pygments_lexer": "ipython3",
   "version": "3.12.7"
  }
 },
 "nbformat": 4,
 "nbformat_minor": 5
}
